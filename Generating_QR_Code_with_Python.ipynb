{
  "nbformat": 4,
  "nbformat_minor": 0,
  "metadata": {
    "colab": {
      "provenance": []
    },
    "kernelspec": {
      "name": "python3",
      "display_name": "Python 3"
    },
    "language_info": {
      "name": "python"
    }
  },
  "cells": [
    {
      "cell_type": "markdown",
      "source": [
        "Install necessary libraries"
      ],
      "metadata": {
        "id": "Vk_s7zKJNf3x"
      }
    },
    {
      "cell_type": "code",
      "execution_count": null,
      "metadata": {
        "colab": {
          "base_uri": "https://localhost:8080/"
        },
        "id": "kLxEM6idNHh7",
        "outputId": "e99ded41-3508-4abf-d240-aeda8ab6d401"
      },
      "outputs": [
        {
          "output_type": "stream",
          "name": "stdout",
          "text": [
            "Collecting qrcode\n",
            "  Downloading qrcode-7.4.2-py3-none-any.whl (46 kB)\n",
            "\u001b[?25l     \u001b[90m━━━━━━━━━━━━━━━━━━━━━━━━━━━━━━━━━━━━━━━━\u001b[0m \u001b[32m0.0/46.2 kB\u001b[0m \u001b[31m?\u001b[0m eta \u001b[36m-:--:--\u001b[0m\r\u001b[2K     \u001b[90m━━━━━━━━━━━━━━━━━━━━━━━━━━━━━━━━━━━━━━━━\u001b[0m \u001b[32m46.2/46.2 kB\u001b[0m \u001b[31m1.4 MB/s\u001b[0m eta \u001b[36m0:00:00\u001b[0m\n",
            "\u001b[?25hRequirement already satisfied: typing-extensions in /usr/local/lib/python3.10/dist-packages (from qrcode) (4.7.1)\n",
            "Collecting pypng (from qrcode)\n",
            "  Downloading pypng-0.20220715.0-py3-none-any.whl (58 kB)\n",
            "\u001b[?25l     \u001b[90m━━━━━━━━━━━━━━━━━━━━━━━━━━━━━━━━━━━━━━━━\u001b[0m \u001b[32m0.0/58.1 kB\u001b[0m \u001b[31m?\u001b[0m eta \u001b[36m-:--:--\u001b[0m\r\u001b[2K     \u001b[90m━━━━━━━━━━━━━━━━━━━━━━━━━━━━━━━━━━━━━━━━\u001b[0m \u001b[32m58.1/58.1 kB\u001b[0m \u001b[31m4.5 MB/s\u001b[0m eta \u001b[36m0:00:00\u001b[0m\n",
            "\u001b[?25hInstalling collected packages: pypng, qrcode\n",
            "Successfully installed pypng-0.20220715.0 qrcode-7.4.2\n"
          ]
        }
      ],
      "source": [
        "pip install qrcode"
      ]
    },
    {
      "cell_type": "code",
      "source": [
        "import qrcode"
      ],
      "metadata": {
        "id": "1s13Z4WANtTE"
      },
      "execution_count": null,
      "outputs": []
    },
    {
      "cell_type": "code",
      "source": [
        "from PIL import Image"
      ],
      "metadata": {
        "id": "e9RoyiNtNwST"
      },
      "execution_count": null,
      "outputs": []
    },
    {
      "cell_type": "markdown",
      "source": [
        "Data I want to encode"
      ],
      "metadata": {
        "id": "TWaNQHlXOJWY"
      }
    },
    {
      "cell_type": "code",
      "source": [
        "data = \"Rosemary Nnamdi\""
      ],
      "metadata": {
        "id": "3mUke2jkOMUp"
      },
      "execution_count": null,
      "outputs": []
    },
    {
      "cell_type": "markdown",
      "source": [
        "Generate the QR code"
      ],
      "metadata": {
        "id": "FHGv88ylOEWA"
      }
    },
    {
      "cell_type": "code",
      "source": [
        "# Creating an instance of QRCode class\n",
        "qr = qrcode.QRCode(version = 1,\n",
        "                   box_size = 10,\n",
        "                   border = 5)\n",
        "\n",
        "# Adding data to the instance 'qr'\n",
        "qr.add_data(data)\n",
        "\n",
        "qr.make(fit = True)"
      ],
      "metadata": {
        "id": "z0pfurxkODUJ"
      },
      "execution_count": null,
      "outputs": []
    },
    {
      "cell_type": "markdown",
      "source": [
        "Creating an image from the QR code"
      ],
      "metadata": {
        "id": "cN09ZJKrOoMj"
      }
    },
    {
      "cell_type": "code",
      "source": [
        "image = qr.make_image(fill_color = 'blue',\n",
        "                    back_color = 'white')"
      ],
      "metadata": {
        "id": "YGW_LQm9OwB0"
      },
      "execution_count": null,
      "outputs": []
    },
    {
      "cell_type": "markdown",
      "source": [
        "Saving the image"
      ],
      "metadata": {
        "id": "Ns1IUBxSO5-s"
      }
    },
    {
      "cell_type": "code",
      "source": [
        "image.save('RoseQRCode.png')"
      ],
      "metadata": {
        "id": "dfb7FSe-O7cE"
      },
      "execution_count": null,
      "outputs": []
    },
    {
      "cell_type": "markdown",
      "source": [
        "Open the QR code"
      ],
      "metadata": {
        "id": "xofw2DhrPFEV"
      }
    },
    {
      "cell_type": "code",
      "source": [
        "Image.open('RoseQRCode.png')"
      ],
      "metadata": {
        "colab": {
          "base_uri": "https://localhost:8080/",
          "height": 367
        },
        "id": "-1IPSUydPG1N",
        "outputId": "460a7b58-ad8d-4fe0-c9d1-387a03d9cf1b"
      },
      "execution_count": null,
      "outputs": [
        {
          "output_type": "execute_result",
          "data": {
            "text/plain": [
              "<PIL.PngImagePlugin.PngImageFile image mode=RGB size=350x350>"
            ],
            "image/png": "[encoded data removed]"
          },
          "metadata": {},
          "execution_count": 9
        }
      ]
    }
  ]
}